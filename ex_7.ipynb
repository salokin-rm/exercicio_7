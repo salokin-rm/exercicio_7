{
 "cells": [
  {
   "cell_type": "code",
   "execution_count": 1,
   "id": "7b43906f",
   "metadata": {},
   "outputs": [
    {
     "name": "stdout",
     "output_type": "stream",
     "text": [
      "Digite o primeiro termo 'n' de uma progressão geométrica:2\n",
      "2.0\n",
      "\n",
      "Digite a razão da progressão geométrica:3\n",
      "3.0\n",
      "\n",
      "Digite a n-ésima posição na série do termo desejado:4\n",
      "4.0\n",
      "\n",
      "O 4.0 º termo da progressão geométrica com termo inicial igual a 2.0  e razão igual a 3.0 é: 54.0 .\n",
      "A soma dos termos da P.G. até (incluso) o número 54.0 é igual a: 80.0 .\n"
     ]
    }
   ],
   "source": [
    "\"\"\"\n",
    "Nome: Progressão Geométrica\n",
    "Autor: Nikolas\n",
    "Data: 26/06/2023\n",
    "Versão: 0.0.1\n",
    "\"\"\"\n",
    "\n",
    "### Atribuição de variáveis e entrada de dados\n",
    "\n",
    "n = float(input(f\"Digite o primeiro termo 'n' de uma progressão geométrica:\"))\n",
    "print(n)\n",
    "\n",
    "r = float(input(f\"\\nDigite a razão da progressão geométrica:\"))\n",
    "print(r)\n",
    "\n",
    "nesima = float(input(f\"\\nDigite a n-ésima posição na série do termo desejado:\"))\n",
    "print(nesima)\n",
    "\n",
    "\n",
    "### Processamento de dados\n",
    "\n",
    "# Equação de Termos da P.G. --> termo_desejado_a = (primeiro_termo_an)*(razão^(n-ésima_posição - 1))\n",
    "\n",
    "termo = (n*(r**(nesima - 1)))\n",
    "\n",
    "# Equação de Soma dos Termos da P.G. --> soma_pg = ((primeiro_termo_an)*(razão^(n-ésima_posição) - 1)/(razão - 1))\n",
    "\n",
    "soma = (n*((r**nesima) - 1)/(r-1))\n",
    "\n",
    "### Saída de dados\n",
    "\n",
    "print(\"\\nO\",nesima,\"º termo da progressão geométrica com termo inicial igual a\",n,\" e razão igual a\",r,\"é:\",termo,\".\\nA soma dos termos da P.G. até (incluso) o número\",termo,\"é igual a:\",soma,\".\")\n"
   ]
  },
  {
   "cell_type": "code",
   "execution_count": null,
   "id": "e66a5219",
   "metadata": {},
   "outputs": [],
   "source": []
  }
 ],
 "metadata": {
  "kernelspec": {
   "display_name": "Python 3 (ipykernel)",
   "language": "python",
   "name": "python3"
  },
  "language_info": {
   "codemirror_mode": {
    "name": "ipython",
    "version": 3
   },
   "file_extension": ".py",
   "mimetype": "text/x-python",
   "name": "python",
   "nbconvert_exporter": "python",
   "pygments_lexer": "ipython3",
   "version": "3.10.9"
  }
 },
 "nbformat": 4,
 "nbformat_minor": 5
}
